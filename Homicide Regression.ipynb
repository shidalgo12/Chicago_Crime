{
 "cells": [
  {
   "cell_type": "code",
   "execution_count": 2,
   "metadata": {},
   "outputs": [],
   "source": [
    "# Dependencies and Setup\n",
    "import matplotlib.pyplot as plt\n",
    "import pandas as pd\n",
    "import numpy as np\n",
    "import requests\n",
    "import time\n",
    "from scipy import stats\n",
    "from scipy.stats import linregress\n",
    "import json"
   ]
  },
  {
   "cell_type": "code",
   "execution_count": 3,
   "metadata": {},
   "outputs": [
    {
     "data": {
      "text/html": [
       "<div>\n",
       "<style scoped>\n",
       "    .dataframe tbody tr th:only-of-type {\n",
       "        vertical-align: middle;\n",
       "    }\n",
       "\n",
       "    .dataframe tbody tr th {\n",
       "        vertical-align: top;\n",
       "    }\n",
       "\n",
       "    .dataframe thead th {\n",
       "        text-align: right;\n",
       "    }\n",
       "</style>\n",
       "<table border=\"1\" class=\"dataframe\">\n",
       "  <thead>\n",
       "    <tr style=\"text-align: right;\">\n",
       "      <th></th>\n",
       "      <th>Year</th>\n",
       "      <th>Months</th>\n",
       "      <th>Area</th>\n",
       "      <th>Community</th>\n",
       "      <th>Primary Type</th>\n",
       "      <th>Crimes</th>\n",
       "      <th>Arrests</th>\n",
       "      <th>Violent</th>\n",
       "      <th>Gun_Violence</th>\n",
       "      <th>Weapon</th>\n",
       "      <th>Robbery</th>\n",
       "      <th>Vandalism</th>\n",
       "      <th>Fraud</th>\n",
       "      <th>Drug_Abuse</th>\n",
       "      <th>Sexual</th>\n",
       "      <th>Lat</th>\n",
       "      <th>Lng</th>\n",
       "    </tr>\n",
       "  </thead>\n",
       "  <tbody>\n",
       "    <tr>\n",
       "      <td>0</td>\n",
       "      <td>2010</td>\n",
       "      <td>Jan</td>\n",
       "      <td>Central</td>\n",
       "      <td>Loop</td>\n",
       "      <td>ARSON</td>\n",
       "      <td>1</td>\n",
       "      <td>0</td>\n",
       "      <td>0</td>\n",
       "      <td>0</td>\n",
       "      <td>0</td>\n",
       "      <td>0</td>\n",
       "      <td>0</td>\n",
       "      <td>0</td>\n",
       "      <td>0</td>\n",
       "      <td>0</td>\n",
       "      <td>41.881557</td>\n",
       "      <td>-87.627759</td>\n",
       "    </tr>\n",
       "    <tr>\n",
       "      <td>1</td>\n",
       "      <td>2010</td>\n",
       "      <td>Jan</td>\n",
       "      <td>Central</td>\n",
       "      <td>Loop</td>\n",
       "      <td>ASSAULT</td>\n",
       "      <td>29</td>\n",
       "      <td>15</td>\n",
       "      <td>2</td>\n",
       "      <td>0</td>\n",
       "      <td>2</td>\n",
       "      <td>0</td>\n",
       "      <td>0</td>\n",
       "      <td>0</td>\n",
       "      <td>0</td>\n",
       "      <td>0</td>\n",
       "      <td>41.880831</td>\n",
       "      <td>-87.629159</td>\n",
       "    </tr>\n",
       "    <tr>\n",
       "      <td>2</td>\n",
       "      <td>2010</td>\n",
       "      <td>Jan</td>\n",
       "      <td>Central</td>\n",
       "      <td>Loop</td>\n",
       "      <td>BATTERY</td>\n",
       "      <td>35</td>\n",
       "      <td>12</td>\n",
       "      <td>35</td>\n",
       "      <td>0</td>\n",
       "      <td>2</td>\n",
       "      <td>0</td>\n",
       "      <td>0</td>\n",
       "      <td>0</td>\n",
       "      <td>0</td>\n",
       "      <td>0</td>\n",
       "      <td>41.878982</td>\n",
       "      <td>-87.627872</td>\n",
       "    </tr>\n",
       "    <tr>\n",
       "      <td>3</td>\n",
       "      <td>2010</td>\n",
       "      <td>Jan</td>\n",
       "      <td>Central</td>\n",
       "      <td>Loop</td>\n",
       "      <td>BURGLARY</td>\n",
       "      <td>8</td>\n",
       "      <td>1</td>\n",
       "      <td>0</td>\n",
       "      <td>0</td>\n",
       "      <td>0</td>\n",
       "      <td>0</td>\n",
       "      <td>0</td>\n",
       "      <td>0</td>\n",
       "      <td>0</td>\n",
       "      <td>0</td>\n",
       "      <td>41.883088</td>\n",
       "      <td>-87.631038</td>\n",
       "    </tr>\n",
       "    <tr>\n",
       "      <td>4</td>\n",
       "      <td>2010</td>\n",
       "      <td>Jan</td>\n",
       "      <td>Central</td>\n",
       "      <td>Loop</td>\n",
       "      <td>CRIM SEXUAL ASSAULT</td>\n",
       "      <td>1</td>\n",
       "      <td>0</td>\n",
       "      <td>1</td>\n",
       "      <td>0</td>\n",
       "      <td>0</td>\n",
       "      <td>0</td>\n",
       "      <td>0</td>\n",
       "      <td>0</td>\n",
       "      <td>0</td>\n",
       "      <td>0</td>\n",
       "      <td>41.885742</td>\n",
       "      <td>-87.631499</td>\n",
       "    </tr>\n",
       "  </tbody>\n",
       "</table>\n",
       "</div>"
      ],
      "text/plain": [
       "   Year Months     Area Community         Primary Type  Crimes  Arrests  \\\n",
       "0  2010    Jan  Central      Loop                ARSON       1        0   \n",
       "1  2010    Jan  Central      Loop              ASSAULT      29       15   \n",
       "2  2010    Jan  Central      Loop              BATTERY      35       12   \n",
       "3  2010    Jan  Central      Loop             BURGLARY       8        1   \n",
       "4  2010    Jan  Central      Loop  CRIM SEXUAL ASSAULT       1        0   \n",
       "\n",
       "   Violent  Gun_Violence  Weapon  Robbery  Vandalism  Fraud  Drug_Abuse  \\\n",
       "0        0             0       0        0          0      0           0   \n",
       "1        2             0       2        0          0      0           0   \n",
       "2       35             0       2        0          0      0           0   \n",
       "3        0             0       0        0          0      0           0   \n",
       "4        1             0       0        0          0      0           0   \n",
       "\n",
       "   Sexual        Lat        Lng  \n",
       "0       0  41.881557 -87.627759  \n",
       "1       0  41.880831 -87.629159  \n",
       "2       0  41.878982 -87.627872  \n",
       "3       0  41.883088 -87.631038  \n",
       "4       0  41.885742 -87.631499  "
      ]
     },
     "execution_count": 3,
     "metadata": {},
     "output_type": "execute_result"
    }
   ],
   "source": [
    "# Import crime file as DataFrame\n",
    "crime_pd = pd.read_csv(\"City Data/2010-2019_Crime.csv\")\n",
    "crime_pd.head()"
   ]
  },
  {
   "cell_type": "code",
   "execution_count": 4,
   "metadata": {},
   "outputs": [
    {
     "data": {
      "text/html": [
       "<div>\n",
       "<style scoped>\n",
       "    .dataframe tbody tr th:only-of-type {\n",
       "        vertical-align: middle;\n",
       "    }\n",
       "\n",
       "    .dataframe tbody tr th {\n",
       "        vertical-align: top;\n",
       "    }\n",
       "\n",
       "    .dataframe thead th {\n",
       "        text-align: right;\n",
       "    }\n",
       "</style>\n",
       "<table border=\"1\" class=\"dataframe\">\n",
       "  <thead>\n",
       "    <tr style=\"text-align: right;\">\n",
       "      <th></th>\n",
       "      <th>Year</th>\n",
       "      <th>Months</th>\n",
       "      <th>Primary Type</th>\n",
       "      <th>Community</th>\n",
       "      <th>Crimes</th>\n",
       "    </tr>\n",
       "  </thead>\n",
       "  <tbody>\n",
       "    <tr>\n",
       "      <td>25</td>\n",
       "      <td>2010</td>\n",
       "      <td>Jan</td>\n",
       "      <td>HOMICIDE</td>\n",
       "      <td>Near North Side</td>\n",
       "      <td>1</td>\n",
       "    </tr>\n",
       "    <tr>\n",
       "      <td>180</td>\n",
       "      <td>2010</td>\n",
       "      <td>Jan</td>\n",
       "      <td>HOMICIDE</td>\n",
       "      <td>Rogers Park</td>\n",
       "      <td>1</td>\n",
       "    </tr>\n",
       "    <tr>\n",
       "      <td>366</td>\n",
       "      <td>2010</td>\n",
       "      <td>Jan</td>\n",
       "      <td>HOMICIDE</td>\n",
       "      <td>Roseland</td>\n",
       "      <td>1</td>\n",
       "    </tr>\n",
       "    <tr>\n",
       "      <td>388</td>\n",
       "      <td>2010</td>\n",
       "      <td>Jan</td>\n",
       "      <td>HOMICIDE</td>\n",
       "      <td>South Chicago</td>\n",
       "      <td>2</td>\n",
       "    </tr>\n",
       "    <tr>\n",
       "      <td>426</td>\n",
       "      <td>2010</td>\n",
       "      <td>Jan</td>\n",
       "      <td>HOMICIDE</td>\n",
       "      <td>West Pullman</td>\n",
       "      <td>1</td>\n",
       "    </tr>\n",
       "    <tr>\n",
       "      <td>...</td>\n",
       "      <td>...</td>\n",
       "      <td>...</td>\n",
       "      <td>...</td>\n",
       "      <td>...</td>\n",
       "      <td>...</td>\n",
       "    </tr>\n",
       "    <tr>\n",
       "      <td>152807</td>\n",
       "      <td>2019</td>\n",
       "      <td>Dec</td>\n",
       "      <td>HOMICIDE</td>\n",
       "      <td>Austin</td>\n",
       "      <td>5</td>\n",
       "    </tr>\n",
       "    <tr>\n",
       "      <td>152828</td>\n",
       "      <td>2019</td>\n",
       "      <td>Dec</td>\n",
       "      <td>HOMICIDE</td>\n",
       "      <td>East Garfield Park</td>\n",
       "      <td>2</td>\n",
       "    </tr>\n",
       "    <tr>\n",
       "      <td>152846</td>\n",
       "      <td>2019</td>\n",
       "      <td>Dec</td>\n",
       "      <td>HOMICIDE</td>\n",
       "      <td>Humboldt Park</td>\n",
       "      <td>1</td>\n",
       "    </tr>\n",
       "    <tr>\n",
       "      <td>152865</td>\n",
       "      <td>2019</td>\n",
       "      <td>Dec</td>\n",
       "      <td>HOMICIDE</td>\n",
       "      <td>Lower West Side</td>\n",
       "      <td>1</td>\n",
       "    </tr>\n",
       "    <tr>\n",
       "      <td>152923</td>\n",
       "      <td>2019</td>\n",
       "      <td>Dec</td>\n",
       "      <td>HOMICIDE</td>\n",
       "      <td>South Lawndale</td>\n",
       "      <td>1</td>\n",
       "    </tr>\n",
       "  </tbody>\n",
       "</table>\n",
       "<p>2927 rows × 5 columns</p>\n",
       "</div>"
      ],
      "text/plain": [
       "        Year Months Primary Type           Community  Crimes\n",
       "25      2010    Jan     HOMICIDE     Near North Side       1\n",
       "180     2010    Jan     HOMICIDE         Rogers Park       1\n",
       "366     2010    Jan     HOMICIDE            Roseland       1\n",
       "388     2010    Jan     HOMICIDE       South Chicago       2\n",
       "426     2010    Jan     HOMICIDE        West Pullman       1\n",
       "...      ...    ...          ...                 ...     ...\n",
       "152807  2019    Dec     HOMICIDE              Austin       5\n",
       "152828  2019    Dec     HOMICIDE  East Garfield Park       2\n",
       "152846  2019    Dec     HOMICIDE       Humboldt Park       1\n",
       "152865  2019    Dec     HOMICIDE     Lower West Side       1\n",
       "152923  2019    Dec     HOMICIDE      South Lawndale       1\n",
       "\n",
       "[2927 rows x 5 columns]"
      ]
     },
     "execution_count": 4,
     "metadata": {},
     "output_type": "execute_result"
    }
   ],
   "source": [
    "# Filter on homicides and drop unneccesary rows\n",
    "homicides_df = crime_pd.loc[crime_pd[\"Primary Type\"] == \"HOMICIDE\"]\n",
    "homicides_df = homicides_df[[\"Year\", \"Months\", \"Primary Type\", \"Community\", \"Crimes\"]]\n",
    "homicides_df"
   ]
  },
  {
   "cell_type": "code",
   "execution_count": 6,
   "metadata": {},
   "outputs": [
    {
     "name": "stdout",
     "output_type": "stream",
     "text": [
      "There were 2927 homicides in Chicago in the 2010s.\n"
     ]
    }
   ],
   "source": [
    "print(\"There were 2927 homicides in Chicago in the 2010s.\")"
   ]
  },
  {
   "cell_type": "code",
   "execution_count": 7,
   "metadata": {},
   "outputs": [
    {
     "data": {
      "text/html": [
       "<div>\n",
       "<style scoped>\n",
       "    .dataframe tbody tr th:only-of-type {\n",
       "        vertical-align: middle;\n",
       "    }\n",
       "\n",
       "    .dataframe tbody tr th {\n",
       "        vertical-align: top;\n",
       "    }\n",
       "\n",
       "    .dataframe thead th {\n",
       "        text-align: right;\n",
       "    }\n",
       "</style>\n",
       "<table border=\"1\" class=\"dataframe\">\n",
       "  <thead>\n",
       "    <tr style=\"text-align: right;\">\n",
       "      <th></th>\n",
       "      <th>Year</th>\n",
       "      <th>Crimes</th>\n",
       "    </tr>\n",
       "  </thead>\n",
       "  <tbody>\n",
       "    <tr>\n",
       "      <td>0</td>\n",
       "      <td>2010</td>\n",
       "      <td>438</td>\n",
       "    </tr>\n",
       "    <tr>\n",
       "      <td>1</td>\n",
       "      <td>2011</td>\n",
       "      <td>438</td>\n",
       "    </tr>\n",
       "    <tr>\n",
       "      <td>2</td>\n",
       "      <td>2012</td>\n",
       "      <td>515</td>\n",
       "    </tr>\n",
       "    <tr>\n",
       "      <td>3</td>\n",
       "      <td>2013</td>\n",
       "      <td>429</td>\n",
       "    </tr>\n",
       "    <tr>\n",
       "      <td>4</td>\n",
       "      <td>2014</td>\n",
       "      <td>426</td>\n",
       "    </tr>\n",
       "    <tr>\n",
       "      <td>5</td>\n",
       "      <td>2015</td>\n",
       "      <td>502</td>\n",
       "    </tr>\n",
       "    <tr>\n",
       "      <td>6</td>\n",
       "      <td>2016</td>\n",
       "      <td>788</td>\n",
       "    </tr>\n",
       "    <tr>\n",
       "      <td>7</td>\n",
       "      <td>2017</td>\n",
       "      <td>674</td>\n",
       "    </tr>\n",
       "    <tr>\n",
       "      <td>8</td>\n",
       "      <td>2018</td>\n",
       "      <td>592</td>\n",
       "    </tr>\n",
       "    <tr>\n",
       "      <td>9</td>\n",
       "      <td>2019</td>\n",
       "      <td>503</td>\n",
       "    </tr>\n",
       "  </tbody>\n",
       "</table>\n",
       "</div>"
      ],
      "text/plain": [
       "   Year  Crimes\n",
       "0  2010     438\n",
       "1  2011     438\n",
       "2  2012     515\n",
       "3  2013     429\n",
       "4  2014     426\n",
       "5  2015     502\n",
       "6  2016     788\n",
       "7  2017     674\n",
       "8  2018     592\n",
       "9  2019     503"
      ]
     },
     "execution_count": 7,
     "metadata": {},
     "output_type": "execute_result"
    }
   ],
   "source": [
    "# Groupby Year\n",
    "homicides_by_year = homicides_df.groupby('Year').sum()\n",
    "homicides_by_year.reset_index(level=0, inplace = True)\n",
    "homicides_by_year"
   ]
  },
  {
   "cell_type": "code",
   "execution_count": 8,
   "metadata": {},
   "outputs": [],
   "source": [
    "# Create Variables\n",
    "year = homicides_by_year.iloc[:,0]\n",
    "homicides = homicides_by_year.iloc[:,1]"
   ]
  },
  {
   "cell_type": "code",
   "execution_count": 25,
   "metadata": {},
   "outputs": [
    {
     "data": {
      "image/png": "[encoded data removed]",
      "text/plain": [
       "<Figure size 432x288 with 1 Axes>"
      ]
     },
     "metadata": {
      "needs_background": "light"
     },
     "output_type": "display_data"
    }
   ],
   "source": [
    "# Create a Scatter Plot for year vs. homicide totals\n",
    "plt.scatter(year, homicides, marker=\"o\", edgecolors=\"black\")\n",
    "\n",
    "# Graph Properties\n",
    "plt.title(\"Yearly Totals of Homicides in Chicago 2010-2019\")\n",
    "plt.xlabel('Year')\n",
    "plt.ylabel('Number of Homicides')\n",
    "plt.grid(True)\n",
    "plt.xticks(year, rotation=90)\n",
    "\n",
    "# y range\n",
    "plt.ylim(350, 850)\n",
    "\n",
    "# Show Plot\n",
    "plt.show()"
   ]
  },
  {
   "cell_type": "code",
   "execution_count": 10,
   "metadata": {},
   "outputs": [],
   "source": [
    "# Perform a linear regression on year versus homicides\n",
    "(slope, intercept, rvalue, pvalue, stderr) = stats.linregress(year, homicides)"
   ]
  },
  {
   "cell_type": "code",
   "execution_count": 11,
   "metadata": {},
   "outputs": [],
   "source": [
    "# equation for line for predicted homicide rate\n",
    "fit = slope * year + intercept"
   ]
  },
  {
   "cell_type": "code",
   "execution_count": 26,
   "metadata": {},
   "outputs": [
    {
     "name": "stdout",
     "output_type": "stream",
     "text": [
      "The r-squared is: 0.5495737448360712\n"
     ]
    },
    {
     "data": {
      "image/png": "[encoded data removed]",
      "text/plain": [
       "<Figure size 432x288 with 1 Axes>"
      ]
     },
     "metadata": {
      "needs_background": "light"
     },
     "output_type": "display_data"
    }
   ],
   "source": [
    "# Add fit line to scatter\n",
    "plt.scatter(year, homicides, marker=\"o\", edgecolors=\"black\")\n",
    "\n",
    "# Graph Properties\n",
    "plt.title(\"Yearly Totals of Homicides in Chicago 2010-2019\")\n",
    "plt.xlabel('Year')\n",
    "plt.ylabel('Number of Homicides')\n",
    "plt.grid(True)\n",
    "plt.xticks(year, rotation=90)\n",
    "\n",
    "# add fit line\n",
    "plt.plot(year,fit,\"r-\")\n",
    "\n",
    "# y range\n",
    "plt.ylim(350, 850)\n",
    "\n",
    "# Print r square value\n",
    "print(f\"The r-squared is: {rvalue}\")\n",
    "\n",
    "# Show Plot\n",
    "plt.show()"
   ]
  },
  {
   "cell_type": "code",
   "execution_count": 13,
   "metadata": {},
   "outputs": [
    {
     "name": "stdout",
     "output_type": "stream",
     "text": [
      "y = 21.88x +-43556.53\n"
     ]
    }
   ],
   "source": [
    "# Create line equation string\n",
    "line_eq = \"y = \" + str(round(slope,2)) + \"x +\" + str(round(intercept,2))\n",
    "print(line_eq)"
   ]
  },
  {
   "cell_type": "code",
   "execution_count": 14,
   "metadata": {},
   "outputs": [
    {
     "name": "stdout",
     "output_type": "stream",
     "text": [
      "This model predicts 641 homicides in Chicago in 2020.\n"
     ]
    }
   ],
   "source": [
    "# Adding 2020 as \"x\":\n",
    "\n",
    "y = 21.88 * 2020 - 43556.53\n",
    "print(f\"This model predicts {round(y)} homicides in Chicago in 2020.\")"
   ]
  },
  {
   "cell_type": "code",
   "execution_count": 40,
   "metadata": {},
   "outputs": [],
   "source": [
    "# Why is this a poor model? \n",
    "# Nationwide crime spike in 2016. \n",
    "# New policing tactics since 2016."
   ]
  },
  {
   "cell_type": "code",
   "execution_count": 23,
   "metadata": {},
   "outputs": [
    {
     "data": {
      "text/html": [
       "<div>\n",
       "<style scoped>\n",
       "    .dataframe tbody tr th:only-of-type {\n",
       "        vertical-align: middle;\n",
       "    }\n",
       "\n",
       "    .dataframe tbody tr th {\n",
       "        vertical-align: top;\n",
       "    }\n",
       "\n",
       "    .dataframe thead th {\n",
       "        text-align: right;\n",
       "    }\n",
       "</style>\n",
       "<table border=\"1\" class=\"dataframe\">\n",
       "  <thead>\n",
       "    <tr style=\"text-align: right;\">\n",
       "      <th></th>\n",
       "      <th>Year</th>\n",
       "      <th>Crimes</th>\n",
       "    </tr>\n",
       "  </thead>\n",
       "  <tbody>\n",
       "    <tr>\n",
       "      <td>6</td>\n",
       "      <td>2016</td>\n",
       "      <td>788</td>\n",
       "    </tr>\n",
       "    <tr>\n",
       "      <td>7</td>\n",
       "      <td>2017</td>\n",
       "      <td>674</td>\n",
       "    </tr>\n",
       "    <tr>\n",
       "      <td>8</td>\n",
       "      <td>2018</td>\n",
       "      <td>592</td>\n",
       "    </tr>\n",
       "    <tr>\n",
       "      <td>9</td>\n",
       "      <td>2019</td>\n",
       "      <td>503</td>\n",
       "    </tr>\n",
       "  </tbody>\n",
       "</table>\n",
       "</div>"
      ],
      "text/plain": [
       "   Year  Crimes\n",
       "6  2016     788\n",
       "7  2017     674\n",
       "8  2018     592\n",
       "9  2019     503"
      ]
     },
     "execution_count": 23,
     "metadata": {},
     "output_type": "execute_result"
    }
   ],
   "source": [
    "# New Dataframe just on 2016-2019\n",
    "\n",
    "homicides_2016_on = homicides_by_year.iloc[6:10, :]\n",
    "homicides_2016_on"
   ]
  },
  {
   "cell_type": "code",
   "execution_count": 32,
   "metadata": {},
   "outputs": [],
   "source": [
    "# Create Variables\n",
    "year_post_2016 = homicides_2016_on.iloc[:,0]\n",
    "homicides_post_2016 = homicides_2016_on.iloc[:,1]"
   ]
  },
  {
   "cell_type": "code",
   "execution_count": 33,
   "metadata": {},
   "outputs": [],
   "source": [
    "###### Perform a linear regression on year versus homicides\n",
    "(slope_2016, intercept_2016, rvalue_2016, pvalue_2016, stderr_2016) = stats.linregress(year_post_2016, homicides_post_2016)"
   ]
  },
  {
   "cell_type": "code",
   "execution_count": 34,
   "metadata": {},
   "outputs": [],
   "source": [
    "# equation for line for predicted homicide rate\n",
    "fit_post_2016 = slope_2016 * year_post_2016 + intercept_2016"
   ]
  },
  {
   "cell_type": "code",
   "execution_count": 35,
   "metadata": {},
   "outputs": [
    {
     "name": "stdout",
     "output_type": "stream",
     "text": [
      "The r-squared is: -0.997364575625488\n"
     ]
    },
    {
     "data": {
      "image/png": "[encoded data removed]",
      "text/plain": [
       "<Figure size 432x288 with 1 Axes>"
      ]
     },
     "metadata": {
      "needs_background": "light"
     },
     "output_type": "display_data"
    }
   ],
   "source": [
    "# Scatter plot with fit line\n",
    "plt.scatter(year_post_2016, homicides_post_2016, marker=\"o\", edgecolors=\"black\")\n",
    "\n",
    "# Graph Properties\n",
    "plt.title(\"Yearly Totals of Homicides in Chicago 2016-2019\")\n",
    "plt.xlabel('Year')\n",
    "plt.ylabel('Number of Homicides')\n",
    "plt.grid(True)\n",
    "plt.xticks(year_post_2016, rotation=90)\n",
    "\n",
    "# add fit line\n",
    "plt.plot(year_post_2016,fit_post_2016,\"r-\")\n",
    "\n",
    "# y range\n",
    "plt.ylim(350, 850)\n",
    "\n",
    "# Print r square value\n",
    "print(f\"The r-squared is: {rvalue_2016}\")\n",
    "\n",
    "# Show Plot\n",
    "plt.show()"
   ]
  },
  {
   "cell_type": "code",
   "execution_count": 37,
   "metadata": {},
   "outputs": [
    {
     "name": "stdout",
     "output_type": "stream",
     "text": [
      "y = -93.7x +189679.0\n"
     ]
    }
   ],
   "source": [
    "# Create line equation string\n",
    "line_eq_post_2016 = \"y = \" + str(round(slope_2016,2)) + \"x +\" + str(round(intercept_2016,2))\n",
    "print(line_eq_post_2016)"
   ]
  },
  {
   "cell_type": "code",
   "execution_count": 38,
   "metadata": {},
   "outputs": [
    {
     "name": "stdout",
     "output_type": "stream",
     "text": [
      "This model predicts 405 homicides in Chicago in 2020.\n"
     ]
    }
   ],
   "source": [
    "# Adding 2020 as \"x\":\n",
    "\n",
    "y = -93.7 * 2020 + 189679.0\n",
    "print(f\"This model predicts {round(y)} homicides in Chicago in 2020.\")"
   ]
  }
 ],
 "metadata": {
  "kernelspec": {
   "display_name": "Python 3",
   "language": "python",
   "name": "python3"
  },
  "language_info": {
   "codemirror_mode": {
    "name": "ipython",
    "version": 3
   },
   "file_extension": ".py",
   "mimetype": "text/x-python",
   "name": "python",
   "nbconvert_exporter": "python",
   "pygments_lexer": "ipython3",
   "version": "3.7.4"
  }
 },
 "nbformat": 4,
 "nbformat_minor": 4
}
